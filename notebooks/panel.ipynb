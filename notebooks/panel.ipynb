{
 "cells": [
  {
   "cell_type": "code",
   "execution_count": null,
   "metadata": {},
   "outputs": [],
   "source": [
    "import os\n",
    "import panel as pn\n",
    "from tornado.web import RequestHandler\n",
    "\n",
    "md = f'''\n",
    "# /panel\n",
    "\n",
    "The tornado server issues a 302 Found for GET requests to '/' that redirects here.\n",
    "\n",
    "According to the\n",
    "[documentation](https://civis.zendesk.com/hc/en-us/articles/360004026012-Advanced-Deployments#HealthCheckandPortConfiguration),\n",
    "the '/' path should therefore not pass the health check. The CIVIS_SERVICE_HEALTH_PATH variable\n",
    "is set to {os.environ['CIVIS_SERVICE_HEALTH_PATH']!r}, and should also be unhandled while the\n",
    "`extra_patterns` line remains commented out.\n",
    "\n",
    "'''\n",
    "\n",
    "\n",
    "class CivisHealthCheck(RequestHandler):\n",
    "    def get(self):\n",
    "        self.write(\"Hello, World!\")\n",
    "\n",
    "\n",
    "pn.serve(\n",
    "    panels={\"panel\": pn.pane.Markdown(md)},\n",
    "    show=False,\n",
    "    port=3838,\n",
    "    address=\"0.0.0.0\",\n",
    "    websocket_origin=\"*\",\n",
    "    use_index=False,\n",
    "    redirect_root=False,\n",
    "    extra_patterns=[('/civis_healthz', CivisHealthCheck)],\n",
    ")"
   ]
  }
 ],
 "metadata": {
  "kernelspec": {
   "display_name": "Python 3",
   "language": "python",
   "name": "python3"
  },
  "language_info": {
   "codemirror_mode": {
    "name": "ipython",
    "version": 3
   },
   "file_extension": ".py",
   "mimetype": "text/x-python",
   "name": "python",
   "nbconvert_exporter": "python",
   "pygments_lexer": "ipython3",
   "version": "3.8.6"
  }
 },
 "nbformat": 4,
 "nbformat_minor": 4
}
