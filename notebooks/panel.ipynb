{
 "cells": [
  {
   "cell_type": "code",
   "execution_count": 6,
   "metadata": {},
   "outputs": [
    {
     "name": "stderr",
     "output_type": "stream",
     "text": [
      "WARNING:bokeh.server.util:Host wildcard '*' will allow connections originating from multiple (or possibly all) hostnames or IPs. Use non-wildcard values to restrict access explicitly\n"
     ]
    },
    {
     "name": "stdout",
     "output_type": "stream",
     "text": [
      "Launching server at http://0.0.0.0:3838\n"
     ]
    },
    {
     "data": {
      "text/plain": [
       "<bokeh.server.server.Server at 0x10c0d7a60>"
      ]
     },
     "execution_count": 6,
     "metadata": {},
     "output_type": "execute_result"
    }
   ],
   "source": [
    "import os\n",
    "\n",
    "from tornado.web import RequestHandler\n",
    "import panel as pn\n",
    "\n",
    "        \n",
    "class BreakRoot(RequestHandler):\n",
    "    def get(self):\n",
    "        self.set_status(204)\n",
    "\n",
    "        \n",
    "class CivisHealthCheck(RequestHandler):\n",
    "    def get(self):\n",
    "        self.write(\"Hello, World!\")\n",
    "        \n",
    "\n",
    "pn.serve(\n",
    "    panels=None,\n",
    "    show=False,\n",
    "    port=3838,\n",
    "    address=\"0.0.0.0\",\n",
    "    websocket_origin=\"*\",\n",
    "    use_index=False,\n",
    "    redirect_root=False,\n",
    "    extra_patterns=[('/', BreakRoot), (os.environ['CIVIS_SERVICE_HEALTH_PATH'], CivisHealthCheck)],\n",
    ")"
   ]
  },
  {
   "cell_type": "code",
   "execution_count": null,
   "metadata": {},
   "outputs": [],
   "source": []
  }
 ],
 "metadata": {
  "kernelspec": {
   "display_name": "Python 3",
   "language": "python",
   "name": "python3"
  },
  "language_info": {
   "codemirror_mode": {
    "name": "ipython",
    "version": 3
   },
   "file_extension": ".py",
   "mimetype": "text/x-python",
   "name": "python",
   "nbconvert_exporter": "python",
   "pygments_lexer": "ipython3",
   "version": "3.8.6"
  }
 },
 "nbformat": 4,
 "nbformat_minor": 4
}
