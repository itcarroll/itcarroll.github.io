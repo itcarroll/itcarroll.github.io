{
 "cells": [
  {
   "cell_type": "code",
   "execution_count": null,
   "metadata": {},
   "outputs": [],
   "source": [
    "import panel as pn\n",
    "\n",
    "md = f'''\n",
    "# /panel\n",
    "\n",
    "The tornado server issues a 302 Found for GET requests to '/' that redirects here.\n",
    "\n",
    "According to the\n",
    "[documentation](https://civis.zendesk.com/hc/en-us/articles/360004026012-Advanced-Deployments#HealthCheckandPortConfiguration),\n",
    "the '/' path should therefore not path a health check. The CIVIS_SERVICE_HEALTH_PATH variable\n",
    "is set to {os.environ['CIVIS_SERVICE_HEALTH_PATH']!r}, and should be unhandled while the\n",
    "`extra_patterns` parameter remains commented out.\n",
    "\n",
    "'''\n",
    "\n",
    "pn.serve(\n",
    "    panels={\n",
    "        \"panel\": pn.pane.Markdown(\"\")\n",
    "    },\n",
    "    show=False,\n",
    "    port=3838,\n",
    "    address=\"0.0.0.0\",\n",
    "    websocket_origin=\"*\",\n",
    "    redirect_root=True,\n",
    "#    extra_patterns=[(os.environ[\"CIVIS_SERVICE_HEALTH_PATH\"], CivisHealthCheck)],\n",
    ")"
   ]
  }
 ],
 "metadata": {
  "kernelspec": {
   "display_name": "Python 3",
   "language": "python",
   "name": "python3"
  },
  "language_info": {
   "codemirror_mode": {
    "name": "ipython",
    "version": 3
   },
   "file_extension": ".py",
   "mimetype": "text/x-python",
   "name": "python",
   "nbconvert_exporter": "python",
   "pygments_lexer": "ipython3",
   "version": "3.8.6"
  }
 },
 "nbformat": 4,
 "nbformat_minor": 4
}
