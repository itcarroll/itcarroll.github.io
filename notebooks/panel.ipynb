{
 "cells": [
  {
   "cell_type": "code",
   "execution_count": null,
   "metadata": {},
   "outputs": [],
   "source": [
    "import os\n",
    "\n",
    "from tornado.web import RequestHandler\n",
    "import panel as pn\n",
    "\n",
    "        \n",
    "class BreakRoot(RequestHandler):\n",
    "    def get(self):\n",
    "        self.set_status(204)\n",
    "\n",
    "        \n",
    "class CivisHealthCheck(RequestHandler):\n",
    "    def get(self):\n",
    "        self.write('Hello, World!')\n",
    "        \n",
    "\n",
    "pn.serve(\n",
    "    panels={'empty': pn.pane.Markdown('')},\n",
    "    show=False,\n",
    "    port=3838,\n",
    "    address='0.0.0.0',\n",
    "    websocket_origin='*',\n",
    "    use_index=False,\n",
    "    redirect_root=False,\n",
    "    extra_patterns=[('/', BreakRoot), (os.environ['CIVIS_SERVICE_HEALTH_PATH'], CivisHealthCheck)],\n",
    ")"
   ]
  },
  {
   "cell_type": "code",
   "execution_count": null,
   "metadata": {},
   "outputs": [],
   "source": []
  }
 ],
 "metadata": {
  "kernelspec": {
   "display_name": "Python 3",
   "language": "python",
   "name": "python3"
  },
  "language_info": {
   "codemirror_mode": {
    "name": "ipython",
    "version": 3
   },
   "file_extension": ".py",
   "mimetype": "text/x-python",
   "name": "python",
   "nbconvert_exporter": "python",
   "pygments_lexer": "ipython3",
   "version": "3.8.6"
  }
 },
 "nbformat": 4,
 "nbformat_minor": 4
}
